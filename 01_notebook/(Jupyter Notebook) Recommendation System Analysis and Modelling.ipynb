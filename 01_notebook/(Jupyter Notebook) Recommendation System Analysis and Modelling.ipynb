{
 "cells": [
  {
   "cell_type": "markdown",
   "metadata": {},
   "source": [
    "## Recommendation System Analysis and Modelling\n",
    "\n",
    "------------------------------------------------------------------------\n",
    "> # Introduction\n",
    ">\n",
    "> Recommendation systems are essential for delivering personalised user experiences across a variety of platforms, including e-commerce, streaming services, social media and news websites.\n",
    ">\n",
    "> This project aims to develop a recommendation system that leveraged historical user data to provide tailored recommendations across different domains, such as product recommendations, content suggestions and service optimisation.\n",
    ">\n",
    "> **CRISP DM Framework**\n",
    ">\n",
    "> The analysis followed the CRISP-DM methodology, which includes the following stages:\n",
    ">\n",
    "> ### 1. Business Understanding:\n",
    ">\n",
    "> The objectives were defined below, followed by the formulation of analytic questions to guide the modelling process.\n",
    ">\n",
    "> Key objectives of the project include:\n",
    ">\n",
    "> 1.Develop Personalized Recommendations: Tailor suggestions based on user behaviour and past interactions.\n",
    ">\n",
    "> 2.Address Diverse Use Cases: Implement systems for product, content and service recommendations.\n",
    ">\n",
    "> 3.Utilize Historical Data: Leverage past user actions to make accurate predictions.\n",
    ">\n",
    "> 4.Enhance User Engagement: Improve user satisfaction and retention through relevant suggestions.\n",
    ">\n",
    "> 5.Ensure Scalability & Real-Time Performance: Handle large data volumes and provide recommendations promptly.\n",
    ">\n",
    "> 6.Boost Business Metrics: Increase sales and conversion rates through better user personalization.\n",
    ">\n",
    "> 7.Balance Accuracy & Diversity: Provide relevant but varied recommendations to avoid monotony.\n",
    ">\n",
    "> \n",
    "> Analytic Questions:\n",
    "> \n",
    ">\n",
    "> ### 2. Data Understanding:\n",
    ">\n",
    "> The dataset consists of three files: events.csv, item_properties.csv and category_tree.csv, which collectively describe the interactions and properties of items on an e-commerce website. The data, collected over a 4.5-month period, is raw and contains hashed values due to confidentiality concerns. The goal of publishing this dataset is to support research in recommender systems using implicit feedback.\n",
    ">\n",
    "> 2.1 Behavior Data (events.csv)\n",
    ">\n",
    "> The behavior data includes a total of 2,756,101 events, with 2,664,312 views, 69,332 add-to-cart actions, and 22,457 transactions, recorded from 1,407,580 unique visitors. Each event corresponds to one of three types of interactions: \"view\", \"addtocart\", or \"transaction\". These implicit feedback signals are crucial for recommender systems:\n",
    ">\n",
    "> View: Represents a user showing interest in an item.\n",
    ">\n",
    "> Add to Cart: Indicates a higher level of intent to purchase.\n",
    ">\n",
    "> Transaction: Represents a completed purchase.\n",
    ">\n",
    "> 2.2 Item Properties (item_properties.csv)\n",
    ">\n",
    "> This file contains 20,275,902 rows, representing various properties of 417,053 unique items. Each property may change over time (e.g., price updates), with each row capturing a snapshot of an item’s property at a specific timestamp. For items with constant properties, only a single snapshot is recorded. The file is split into two due to its size, and it contains detailed item information, which is essential for building item profiles and understanding how item properties influence user behavior.\n",
    ">\n",
    "> 2.3 Category Tree (category_tree.csv)\n",
    ">\n",
    "> The category_tree.csv file outlines the hierarchical structure of item categories. It provides a category-based organization of the products, which can help in grouping items into broader categories or subcategories. This file is important for building models that recommend items within specific categories or using category-based clustering for recommendations.\n",
    "> ### 3. Data Preparation :"
   ]
  },
  {
   "cell_type": "code",
   "execution_count": 1,
   "metadata": {},
   "outputs": [],
   "source": [
    "library(ggplot2)"
   ]
  },
  {
   "cell_type": "code",
   "execution_count": 2,
   "metadata": {},
   "outputs": [
    {
     "name": "stderr",
     "output_type": "stream",
     "text": [
      "Loading required package: bit\n",
      "\n",
      "\n",
      "Attaching package: ‘bit’\n",
      "\n",
      "\n",
      "The following object is masked from ‘package:base’:\n",
      "\n",
      "    xor\n",
      "\n",
      "\n",
      "Attaching package bit64\n",
      "\n",
      "package:bit64 (c) 2011-2017 Jens Oehlschlaegel\n",
      "\n",
      "creators: integer64 runif64 seq :\n",
      "\n",
      "coercion: as.integer64 as.vector as.logical as.integer as.double as.character as.bitstring\n",
      "\n",
      "logical operator: ! & | xor != == < <= >= >\n",
      "\n",
      "arithmetic operator: + - * / %/% %% ^\n",
      "\n",
      "math: sign abs sqrt log log2 log10\n",
      "\n",
      "math: floor ceiling trunc round\n",
      "\n",
      "querying: is.integer64 is.vector [is.atomic} [length] format print str\n",
      "\n",
      "values: is.na is.nan is.finite is.infinite\n",
      "\n",
      "aggregation: any all min max range sum prod\n",
      "\n",
      "cumulation: diff cummin cummax cumsum cumprod\n",
      "\n",
      "access: length<- [ [<- [[ [[<-\n",
      "\n",
      "combine: c rep cbind rbind as.data.frame\n",
      "\n",
      "WARNING don't use as subscripts\n",
      "\n",
      "WARNING semantics differ from integer\n",
      "\n",
      "for more help type ?bit64\n",
      "\n",
      "\n",
      "Attaching package: ‘bit64’\n",
      "\n",
      "\n",
      "The following object is masked from ‘package:utils’:\n",
      "\n",
      "    hashtab\n",
      "\n",
      "\n",
      "The following objects are masked from ‘package:base’:\n",
      "\n",
      "    %in%, :, colSums, is.double, match, order, rank, rowSums\n",
      "\n",
      "\n"
     ]
    }
   ],
   "source": [
    "library(bit64)"
   ]
  },
  {
   "cell_type": "code",
   "execution_count": 3,
   "metadata": {},
   "outputs": [],
   "source": [
    "library(tidyr)"
   ]
  },
  {
   "cell_type": "code",
   "execution_count": 4,
   "metadata": {},
   "outputs": [
    {
     "name": "stderr",
     "output_type": "stream",
     "text": [
      "\n",
      "Attaching package: ‘data.table’\n",
      "\n",
      "\n",
      "The following object is masked from ‘package:bit’:\n",
      "\n",
      "    setattr\n",
      "\n",
      "\n"
     ]
    }
   ],
   "source": [
    "library(data.table)"
   ]
  },
  {
   "cell_type": "code",
   "execution_count": 5,
   "metadata": {},
   "outputs": [
    {
     "name": "stderr",
     "output_type": "stream",
     "text": [
      "\n",
      "Attaching package: ‘dplyr’\n",
      "\n",
      "\n",
      "The following objects are masked from ‘package:data.table’:\n",
      "\n",
      "    between, first, last\n",
      "\n",
      "\n",
      "The following object is masked from ‘package:bit’:\n",
      "\n",
      "    symdiff\n",
      "\n",
      "\n",
      "The following objects are masked from ‘package:stats’:\n",
      "\n",
      "    filter, lag\n",
      "\n",
      "\n",
      "The following objects are masked from ‘package:base’:\n",
      "\n",
      "    intersect, setdiff, setequal, union\n",
      "\n",
      "\n"
     ]
    }
   ],
   "source": [
    "library(dplyr)"
   ]
  },
  {
   "cell_type": "code",
   "execution_count": 6,
   "metadata": {},
   "outputs": [
    {
     "name": "stderr",
     "output_type": "stream",
     "text": [
      "\n",
      "Attaching package: ‘janitor’\n",
      "\n",
      "\n",
      "The following objects are masked from ‘package:stats’:\n",
      "\n",
      "    chisq.test, fisher.test\n",
      "\n",
      "\n"
     ]
    }
   ],
   "source": [
    "library(janitor)"
   ]
  },
  {
   "cell_type": "code",
   "execution_count": 7,
   "metadata": {},
   "outputs": [
    {
     "name": "stderr",
     "output_type": "stream",
     "text": [
      "Loading required package: lattice\n",
      "\n"
     ]
    }
   ],
   "source": [
    "library(caret)"
   ]
  },
  {
   "cell_type": "code",
   "execution_count": 8,
   "metadata": {},
   "outputs": [
    {
     "data": {
      "text/html": [
       "'/home/kojo/data-science-projects/Recommendation System Analysis and Modelling/01_notebook'"
      ],
      "text/latex": [
       "'/home/kojo/data-science-projects/Recommendation System Analysis and Modelling/01\\_notebook'"
      ],
      "text/markdown": [
       "'/home/kojo/data-science-projects/Recommendation System Analysis and Modelling/01_notebook'"
      ],
      "text/plain": [
       "[1] \"/home/kojo/data-science-projects/Recommendation System Analysis and Modelling/01_notebook\""
      ]
     },
     "metadata": {},
     "output_type": "display_data"
    }
   ],
   "source": [
    "# get working directory\n",
    "getwd()"
   ]
  },
  {
   "cell_type": "code",
   "execution_count": 9,
   "metadata": {},
   "outputs": [],
   "source": [
    "# set working directory3. Data Preparation:\n",
    "setwd(\"/home/kojo/data-science-projects/Recommendation System Analysis and Modelling/\")"
   ]
  },
  {
   "cell_type": "code",
   "execution_count": 10,
   "metadata": {},
   "outputs": [],
   "source": [
    "read_in_chunks <- function(file_path, chunk_size = 10000, ...) {\n",
    "  # Open the file connection for reading\n",
    "  con <- file(file_path, open = \"r\")\n",
    "  \n",
    "  # Read the header line (assumes CSV header is in the first line)\n",
    "  header <- readLines(con, n = 1)\n",
    "  \n",
    "  # Prepare an empty list to store chunks\n",
    "  chunks <- list()\n",
    "  chunk_index <- 1\n",
    "  \n",
    "  repeat {\n",
    "    # Read the next chunk_size lines\n",
    "    lines <- readLines(con, n = chunk_size)\n",
    "    \n",
    "    # Exit the loop if no more lines are available\n",
    "    if (length(lines) == 0) break\n",
    "    \n",
    "    # Combine header and the chunk's lines to form a valid CSV text\n",
    "    csv_text <- paste(c(header, lines), collapse = \"\\n\")\n",
    "    \n",
    "    # Read the combined text into a data frame\n",
    "    chunk_df <- read.csv(text = csv_text, header = TRUE, stringsAsFactors = FALSE, ...)\n",
    "    \n",
    "    # Store the chunk in the list\n",
    "    chunks[[chunk_index]] <- chunk_df\n",
    "    chunk_index <- chunk_index + 1\n",
    "  }\n",
    "  \n",
    "  # Close the connection\n",
    "  close(con)\n",
    "  \n",
    "  return(chunks)\n",
    "}"
   ]
  },
  {
   "cell_type": "code",
   "execution_count": 11,
   "metadata": {},
   "outputs": [
    {
     "data": {
      "text/html": [
       "<table class=\"dataframe\">\n",
       "<caption>A data.table: 10 × 2</caption>\n",
       "<thead>\n",
       "\t<tr><th scope=col>categoryid</th><th scope=col>parentid</th></tr>\n",
       "\t<tr><th scope=col>&lt;int&gt;</th><th scope=col>&lt;int&gt;</th></tr>\n",
       "</thead>\n",
       "<tbody>\n",
       "\t<tr><td>1016</td><td> 213</td></tr>\n",
       "\t<tr><td> 809</td><td> 169</td></tr>\n",
       "\t<tr><td> 570</td><td>   9</td></tr>\n",
       "\t<tr><td>1691</td><td> 885</td></tr>\n",
       "\t<tr><td> 536</td><td>1691</td></tr>\n",
       "\t<tr><td> 231</td><td>  NA</td></tr>\n",
       "\t<tr><td> 542</td><td> 378</td></tr>\n",
       "\t<tr><td>1146</td><td> 542</td></tr>\n",
       "\t<tr><td>1140</td><td> 542</td></tr>\n",
       "\t<tr><td>1479</td><td>1537</td></tr>\n",
       "</tbody>\n",
       "</table>\n"
      ],
      "text/latex": [
       "A data.table: 10 × 2\n",
       "\\begin{tabular}{ll}\n",
       " categoryid & parentid\\\\\n",
       " <int> & <int>\\\\\n",
       "\\hline\n",
       "\t 1016 &  213\\\\\n",
       "\t  809 &  169\\\\\n",
       "\t  570 &    9\\\\\n",
       "\t 1691 &  885\\\\\n",
       "\t  536 & 1691\\\\\n",
       "\t  231 &   NA\\\\\n",
       "\t  542 &  378\\\\\n",
       "\t 1146 &  542\\\\\n",
       "\t 1140 &  542\\\\\n",
       "\t 1479 & 1537\\\\\n",
       "\\end{tabular}\n"
      ],
      "text/markdown": [
       "\n",
       "A data.table: 10 × 2\n",
       "\n",
       "| categoryid &lt;int&gt; | parentid &lt;int&gt; |\n",
       "|---|---|\n",
       "| 1016 |  213 |\n",
       "|  809 |  169 |\n",
       "|  570 |    9 |\n",
       "| 1691 |  885 |\n",
       "|  536 | 1691 |\n",
       "|  231 |   NA |\n",
       "|  542 |  378 |\n",
       "| 1146 |  542 |\n",
       "| 1140 |  542 |\n",
       "| 1479 | 1537 |\n",
       "\n"
      ],
      "text/plain": [
       "   categoryid parentid\n",
       "1  1016        213    \n",
       "2   809        169    \n",
       "3   570          9    \n",
       "4  1691        885    \n",
       "5   536       1691    \n",
       "6   231         NA    \n",
       "7   542        378    \n",
       "8  1146        542    \n",
       "9  1140        542    \n",
       "10 1479       1537    "
      ]
     },
     "metadata": {},
     "output_type": "display_data"
    }
   ],
   "source": [
    "# Read category tree.csv\n",
    "category_tree <- fread(\"./00_raw_data/category_tree.csv\")\n",
    "\n",
    "View(head(category_tree, 10))"
   ]
  },
  {
   "cell_type": "code",
   "execution_count": 12,
   "metadata": {},
   "outputs": [],
   "source": [
    "# Read events.csv in chunks\n",
    "events <- read_in_chunks(\"./00_raw_data/events.csv\")"
   ]
  },
  {
   "cell_type": "code",
   "execution_count": 13,
   "metadata": {},
   "outputs": [],
   "source": [
    "# Read item_properties_part1.1.csv in chunks\n",
    "item_properties_1 <- read_in_chunks(\"./00_raw_data/item_properties_part1.1.csv\")"
   ]
  },
  {
   "cell_type": "code",
   "execution_count": 14,
   "metadata": {},
   "outputs": [],
   "source": [
    "# Read item_properties_part2.csv in chunks\n",
    "item_properties_2 <- read_in_chunks(\"./00_raw_data/item_properties_part2.csv\")"
   ]
  },
  {
   "cell_type": "code",
   "execution_count": 15,
   "metadata": {},
   "outputs": [
    {
     "data": {
      "text/html": [
       "<table class=\"dataframe\">\n",
       "<caption>A data.table: 10 × 5</caption>\n",
       "<thead>\n",
       "\t<tr><th scope=col>timestamp</th><th scope=col>visitorid</th><th scope=col>event</th><th scope=col>itemid</th><th scope=col>transactionid</th></tr>\n",
       "\t<tr><th scope=col>&lt;dbl&gt;</th><th scope=col>&lt;int&gt;</th><th scope=col>&lt;chr&gt;</th><th scope=col>&lt;int&gt;</th><th scope=col>&lt;int&gt;</th></tr>\n",
       "</thead>\n",
       "<tbody>\n",
       "\t<tr><td>1.433221e+12</td><td>257597</td><td>view</td><td>355908</td><td>NA</td></tr>\n",
       "\t<tr><td>1.433224e+12</td><td>992329</td><td>view</td><td>248676</td><td>NA</td></tr>\n",
       "\t<tr><td>1.433222e+12</td><td>111016</td><td>view</td><td>318965</td><td>NA</td></tr>\n",
       "\t<tr><td>1.433222e+12</td><td>483717</td><td>view</td><td>253185</td><td>NA</td></tr>\n",
       "\t<tr><td>1.433221e+12</td><td>951259</td><td>view</td><td>367447</td><td>NA</td></tr>\n",
       "\t<tr><td>1.433224e+12</td><td>972639</td><td>view</td><td> 22556</td><td>NA</td></tr>\n",
       "\t<tr><td>1.433222e+12</td><td>810725</td><td>view</td><td>443030</td><td>NA</td></tr>\n",
       "\t<tr><td>1.433223e+12</td><td>794181</td><td>view</td><td>439202</td><td>NA</td></tr>\n",
       "\t<tr><td>1.433221e+12</td><td>824915</td><td>view</td><td>428805</td><td>NA</td></tr>\n",
       "\t<tr><td>1.433221e+12</td><td>339335</td><td>view</td><td> 82389</td><td>NA</td></tr>\n",
       "</tbody>\n",
       "</table>\n"
      ],
      "text/latex": [
       "A data.table: 10 × 5\n",
       "\\begin{tabular}{lllll}\n",
       " timestamp & visitorid & event & itemid & transactionid\\\\\n",
       " <dbl> & <int> & <chr> & <int> & <int>\\\\\n",
       "\\hline\n",
       "\t 1.433221e+12 & 257597 & view & 355908 & NA\\\\\n",
       "\t 1.433224e+12 & 992329 & view & 248676 & NA\\\\\n",
       "\t 1.433222e+12 & 111016 & view & 318965 & NA\\\\\n",
       "\t 1.433222e+12 & 483717 & view & 253185 & NA\\\\\n",
       "\t 1.433221e+12 & 951259 & view & 367447 & NA\\\\\n",
       "\t 1.433224e+12 & 972639 & view &  22556 & NA\\\\\n",
       "\t 1.433222e+12 & 810725 & view & 443030 & NA\\\\\n",
       "\t 1.433223e+12 & 794181 & view & 439202 & NA\\\\\n",
       "\t 1.433221e+12 & 824915 & view & 428805 & NA\\\\\n",
       "\t 1.433221e+12 & 339335 & view &  82389 & NA\\\\\n",
       "\\end{tabular}\n"
      ],
      "text/markdown": [
       "\n",
       "A data.table: 10 × 5\n",
       "\n",
       "| timestamp &lt;dbl&gt; | visitorid &lt;int&gt; | event &lt;chr&gt; | itemid &lt;int&gt; | transactionid &lt;int&gt; |\n",
       "|---|---|---|---|---|\n",
       "| 1.433221e+12 | 257597 | view | 355908 | NA |\n",
       "| 1.433224e+12 | 992329 | view | 248676 | NA |\n",
       "| 1.433222e+12 | 111016 | view | 318965 | NA |\n",
       "| 1.433222e+12 | 483717 | view | 253185 | NA |\n",
       "| 1.433221e+12 | 951259 | view | 367447 | NA |\n",
       "| 1.433224e+12 | 972639 | view |  22556 | NA |\n",
       "| 1.433222e+12 | 810725 | view | 443030 | NA |\n",
       "| 1.433223e+12 | 794181 | view | 439202 | NA |\n",
       "| 1.433221e+12 | 824915 | view | 428805 | NA |\n",
       "| 1.433221e+12 | 339335 | view |  82389 | NA |\n",
       "\n"
      ],
      "text/plain": [
       "   timestamp    visitorid event itemid transactionid\n",
       "1  1.433221e+12 257597    view  355908 NA           \n",
       "2  1.433224e+12 992329    view  248676 NA           \n",
       "3  1.433222e+12 111016    view  318965 NA           \n",
       "4  1.433222e+12 483717    view  253185 NA           \n",
       "5  1.433221e+12 951259    view  367447 NA           \n",
       "6  1.433224e+12 972639    view   22556 NA           \n",
       "7  1.433222e+12 810725    view  443030 NA           \n",
       "8  1.433223e+12 794181    view  439202 NA           \n",
       "9  1.433221e+12 824915    view  428805 NA           \n",
       "10 1.433221e+12 339335    view   82389 NA           "
      ]
     },
     "metadata": {},
     "output_type": "display_data"
    }
   ],
   "source": [
    "# Bind events to data frame\n",
    "events <- rbindlist(events)\n",
    "\n",
    "View(head(events, 10))"
   ]
  },
  {
   "cell_type": "code",
   "execution_count": 16,
   "metadata": {},
   "outputs": [
    {
     "data": {
      "text/html": [
       "<table class=\"dataframe\">\n",
       "<caption>A data.frame: 10 × 4</caption>\n",
       "<thead>\n",
       "\t<tr><th></th><th scope=col>timestamp</th><th scope=col>itemid</th><th scope=col>property</th><th scope=col>value</th></tr>\n",
       "\t<tr><th></th><th scope=col>&lt;dbl&gt;</th><th scope=col>&lt;int&gt;</th><th scope=col>&lt;chr&gt;</th><th scope=col>&lt;chr&gt;</th></tr>\n",
       "</thead>\n",
       "<tbody>\n",
       "\t<tr><th scope=row>1</th><td>1.435460e+12</td><td>460429</td><td>categoryid</td><td>1338                           </td></tr>\n",
       "\t<tr><th scope=row>2</th><td>1.441508e+12</td><td>206783</td><td>888       </td><td>1116713 960601 n277.200        </td></tr>\n",
       "\t<tr><th scope=row>3</th><td>1.439089e+12</td><td>395014</td><td>400       </td><td>n552.000 639502 n720.000 424566</td></tr>\n",
       "\t<tr><th scope=row>4</th><td>1.431227e+12</td><td> 59481</td><td>790       </td><td>n15360.000                     </td></tr>\n",
       "\t<tr><th scope=row>5</th><td>1.431832e+12</td><td>156781</td><td>917       </td><td>828513                         </td></tr>\n",
       "\t<tr><th scope=row>6</th><td>1.436065e+12</td><td>285026</td><td>available </td><td>0                              </td></tr>\n",
       "\t<tr><th scope=row>7</th><td>1.434251e+12</td><td> 89534</td><td>213       </td><td>1121373                        </td></tr>\n",
       "\t<tr><th scope=row>8</th><td>1.431832e+12</td><td>264312</td><td>6         </td><td>319724                         </td></tr>\n",
       "\t<tr><th scope=row>9</th><td>1.433646e+12</td><td>229370</td><td>202       </td><td>1330310                        </td></tr>\n",
       "\t<tr><th scope=row>10</th><td>1.434251e+12</td><td> 98113</td><td>451       </td><td>1141052 n48.000                </td></tr>\n",
       "</tbody>\n",
       "</table>\n"
      ],
      "text/latex": [
       "A data.frame: 10 × 4\n",
       "\\begin{tabular}{r|llll}\n",
       "  & timestamp & itemid & property & value\\\\\n",
       "  & <dbl> & <int> & <chr> & <chr>\\\\\n",
       "\\hline\n",
       "\t1 & 1.435460e+12 & 460429 & categoryid & 1338                           \\\\\n",
       "\t2 & 1.441508e+12 & 206783 & 888        & 1116713 960601 n277.200        \\\\\n",
       "\t3 & 1.439089e+12 & 395014 & 400        & n552.000 639502 n720.000 424566\\\\\n",
       "\t4 & 1.431227e+12 &  59481 & 790        & n15360.000                     \\\\\n",
       "\t5 & 1.431832e+12 & 156781 & 917        & 828513                         \\\\\n",
       "\t6 & 1.436065e+12 & 285026 & available  & 0                              \\\\\n",
       "\t7 & 1.434251e+12 &  89534 & 213        & 1121373                        \\\\\n",
       "\t8 & 1.431832e+12 & 264312 & 6          & 319724                         \\\\\n",
       "\t9 & 1.433646e+12 & 229370 & 202        & 1330310                        \\\\\n",
       "\t10 & 1.434251e+12 &  98113 & 451        & 1141052 n48.000                \\\\\n",
       "\\end{tabular}\n"
      ],
      "text/markdown": [
       "\n",
       "A data.frame: 10 × 4\n",
       "\n",
       "| <!--/--> | timestamp &lt;dbl&gt; | itemid &lt;int&gt; | property &lt;chr&gt; | value &lt;chr&gt; |\n",
       "|---|---|---|---|---|\n",
       "| 1 | 1.435460e+12 | 460429 | categoryid | 1338                            |\n",
       "| 2 | 1.441508e+12 | 206783 | 888        | 1116713 960601 n277.200         |\n",
       "| 3 | 1.439089e+12 | 395014 | 400        | n552.000 639502 n720.000 424566 |\n",
       "| 4 | 1.431227e+12 |  59481 | 790        | n15360.000                      |\n",
       "| 5 | 1.431832e+12 | 156781 | 917        | 828513                          |\n",
       "| 6 | 1.436065e+12 | 285026 | available  | 0                               |\n",
       "| 7 | 1.434251e+12 |  89534 | 213        | 1121373                         |\n",
       "| 8 | 1.431832e+12 | 264312 | 6          | 319724                          |\n",
       "| 9 | 1.433646e+12 | 229370 | 202        | 1330310                         |\n",
       "| 10 | 1.434251e+12 |  98113 | 451        | 1141052 n48.000                 |\n",
       "\n"
      ],
      "text/plain": [
       "   timestamp    itemid property   value                          \n",
       "1  1.435460e+12 460429 categoryid 1338                           \n",
       "2  1.441508e+12 206783 888        1116713 960601 n277.200        \n",
       "3  1.439089e+12 395014 400        n552.000 639502 n720.000 424566\n",
       "4  1.431227e+12  59481 790        n15360.000                     \n",
       "5  1.431832e+12 156781 917        828513                         \n",
       "6  1.436065e+12 285026 available  0                              \n",
       "7  1.434251e+12  89534 213        1121373                        \n",
       "8  1.431832e+12 264312 6          319724                         \n",
       "9  1.433646e+12 229370 202        1330310                        \n",
       "10 1.434251e+12  98113 451        1141052 n48.000                "
      ]
     },
     "metadata": {},
     "output_type": "display_data"
    }
   ],
   "source": [
    "# Bind item properties 1 & 2 in a data frame\n",
    "item_properties <- do.call(rbind, c(item_properties_1, item_properties_2))\n",
    "\n",
    "View(head(item_properties, 10))"
   ]
  },
  {
   "cell_type": "code",
   "execution_count": 17,
   "metadata": {},
   "outputs": [
    {
     "data": {
      "text/html": [
       "0"
      ],
      "text/latex": [
       "0"
      ],
      "text/markdown": [
       "0"
      ],
      "text/plain": [
       "[1] 0"
      ]
     },
     "metadata": {},
     "output_type": "display_data"
    }
   ],
   "source": [
    "# Data cleaning\n",
    "# Check for duplicates\n",
    "sum(duplicated(category_tree))"
   ]
  },
  {
   "cell_type": "code",
   "execution_count": 18,
   "metadata": {},
   "outputs": [
    {
     "data": {
      "text/html": [
       "460"
      ],
      "text/latex": [
       "460"
      ],
      "text/markdown": [
       "460"
      ],
      "text/plain": [
       "[1] 460"
      ]
     },
     "metadata": {},
     "output_type": "display_data"
    },
    {
     "data": {
      "text/html": [
       "0"
      ],
      "text/latex": [
       "0"
      ],
      "text/markdown": [
       "0"
      ],
      "text/plain": [
       "[1] 0"
      ]
     },
     "metadata": {},
     "output_type": "display_data"
    }
   ],
   "source": [
    "# Check for duplicates in events\n",
    "sum(duplicated(events))\n",
    "\n",
    "# Remove duplicates \n",
    "events <- unique(events)\n",
    "\n",
    "# Verify\n",
    "sum(duplicated(events))"
   ]
  },
  {
   "cell_type": "code",
   "execution_count": 19,
   "metadata": {},
   "outputs": [
    {
     "data": {
      "text/html": [
       "<style>\n",
       ".dl-inline {width: auto; margin:0; padding: 0}\n",
       ".dl-inline>dt, .dl-inline>dd {float: none; width: auto; display: inline-block}\n",
       ".dl-inline>dt::after {content: \":\\0020\"; padding-right: .5ex}\n",
       ".dl-inline>dt:not(:first-of-type) {padding-left: .5ex}\n",
       "</style><dl class=dl-inline><dt>categoryid</dt><dd>0</dd><dt>parentid</dt><dd>25</dd></dl>\n"
      ],
      "text/latex": [
       "\\begin{description*}\n",
       "\\item[categoryid] 0\n",
       "\\item[parentid] 25\n",
       "\\end{description*}\n"
      ],
      "text/markdown": [
       "categoryid\n",
       ":   0parentid\n",
       ":   25\n",
       "\n"
      ],
      "text/plain": [
       "categoryid   parentid \n",
       "         0         25 "
      ]
     },
     "metadata": {},
     "output_type": "display_data"
    }
   ],
   "source": [
    "# Check for NA's \n",
    "colSums(is.na(category_tree) | category_tree == \"\")"
   ]
  },
  {
   "cell_type": "code",
   "execution_count": 20,
   "metadata": {},
   "outputs": [
    {
     "data": {
      "text/html": [
       "<style>\n",
       ".dl-inline {width: auto; margin:0; padding: 0}\n",
       ".dl-inline>dt, .dl-inline>dd {float: none; width: auto; display: inline-block}\n",
       ".dl-inline>dt::after {content: \":\\0020\"; padding-right: .5ex}\n",
       ".dl-inline>dt:not(:first-of-type) {padding-left: .5ex}\n",
       "</style><dl class=dl-inline><dt>timestamp</dt><dd>0</dd><dt>visitorid</dt><dd>0</dd><dt>event</dt><dd>0</dd><dt>itemid</dt><dd>0</dd><dt>transactionid</dt><dd>2733184</dd></dl>\n"
      ],
      "text/latex": [
       "\\begin{description*}\n",
       "\\item[timestamp] 0\n",
       "\\item[visitorid] 0\n",
       "\\item[event] 0\n",
       "\\item[itemid] 0\n",
       "\\item[transactionid] 2733184\n",
       "\\end{description*}\n"
      ],
      "text/markdown": [
       "timestamp\n",
       ":   0visitorid\n",
       ":   0event\n",
       ":   0itemid\n",
       ":   0transactionid\n",
       ":   2733184\n",
       "\n"
      ],
      "text/plain": [
       "    timestamp     visitorid         event        itemid transactionid \n",
       "            0             0             0             0       2733184 "
      ]
     },
     "metadata": {},
     "output_type": "display_data"
    }
   ],
   "source": [
    "# Check for NA's in events\n",
    "colSums(is.na(events) | events == \"\")"
   ]
  },
  {
   "cell_type": "code",
   "execution_count": 21,
   "metadata": {},
   "outputs": [],
   "source": [
    "# Convert 'event' to factor\n",
    "events[, event := as.factor(event)]"
   ]
  },
  {
   "cell_type": "code",
   "execution_count": 22,
   "metadata": {},
   "outputs": [
    {
     "data": {
      "text/html": [
       "'numeric'"
      ],
      "text/latex": [
       "'numeric'"
      ],
      "text/markdown": [
       "'numeric'"
      ],
      "text/plain": [
       "[1] \"numeric\""
      ]
     },
     "metadata": {},
     "output_type": "display_data"
    }
   ],
   "source": [
    "# Check the datatype or class of the variable timestamp\n",
    "class(events$timestamp)\n",
    "\n",
    "# Convert to POSIXct\n",
    "events$timestamp <- as.POSIXct(events$timestamp / 1000, origin = \"1970-01-01\", tz = \"UTC\")"
   ]
  },
  {
   "cell_type": "code",
   "execution_count": 23,
   "metadata": {},
   "outputs": [],
   "source": [
    "# Convert to POSIXct\n",
    "item_properties$timestamp <- as.POSIXct(item_properties$timestamp / 1000, origin = \"1970-01-01\", tz = \"UTC\")"
   ]
  },
  {
   "cell_type": "code",
   "execution_count": 24,
   "metadata": {},
   "outputs": [
    {
     "data": {
      "text/html": [
       "'data.frame'"
      ],
      "text/latex": [
       "'data.frame'"
      ],
      "text/markdown": [
       "'data.frame'"
      ],
      "text/plain": [
       "[1] \"data.frame\""
      ]
     },
     "metadata": {},
     "output_type": "display_data"
    },
    {
     "name": "stderr",
     "output_type": "stream",
     "text": [
      "Warning message in eval(jsub, SDenv, parent.frame()):\n",
      "“NAs introduced by coercion”\n"
     ]
    },
    {
     "data": {
      "text/plain": [
       "    Min.  1st Qu.   Median     Mean  3rd Qu.     Max.     NA's \n",
       "-6034344    17920   519769      Inf   769062      Inf  7331908 "
      ]
     },
     "metadata": {},
     "output_type": "display_data"
    },
    {
     "data": {
      "text/html": [
       "<table class=\"dataframe\">\n",
       "<caption>A data.table: 10 × 5</caption>\n",
       "<thead>\n",
       "\t<tr><th scope=col>timestamp</th><th scope=col>itemid</th><th scope=col>property</th><th scope=col>value</th><th scope=col>value_clean</th></tr>\n",
       "\t<tr><th scope=col>&lt;dttm&gt;</th><th scope=col>&lt;int&gt;</th><th scope=col>&lt;chr&gt;</th><th scope=col>&lt;chr&gt;</th><th scope=col>&lt;dbl&gt;</th></tr>\n",
       "</thead>\n",
       "<tbody>\n",
       "\t<tr><td>2015-06-28 03:00:00</td><td>460429</td><td>categoryid</td><td>1338                           </td><td>   1338</td></tr>\n",
       "\t<tr><td>2015-09-06 03:00:00</td><td>206783</td><td>888       </td><td>1116713 960601 n277.200        </td><td>     NA</td></tr>\n",
       "\t<tr><td>2015-08-09 03:00:00</td><td>395014</td><td>400       </td><td>n552.000 639502 n720.000 424566</td><td>     NA</td></tr>\n",
       "\t<tr><td>2015-05-10 03:00:00</td><td> 59481</td><td>790       </td><td>n15360.000                     </td><td>  15360</td></tr>\n",
       "\t<tr><td>2015-05-17 03:00:00</td><td>156781</td><td>917       </td><td>828513                         </td><td> 828513</td></tr>\n",
       "\t<tr><td>2015-07-05 03:00:00</td><td>285026</td><td>available </td><td>0                              </td><td>      0</td></tr>\n",
       "\t<tr><td>2015-06-14 03:00:00</td><td> 89534</td><td>213       </td><td>1121373                        </td><td>1121373</td></tr>\n",
       "\t<tr><td>2015-05-17 03:00:00</td><td>264312</td><td>6         </td><td>319724                         </td><td> 319724</td></tr>\n",
       "\t<tr><td>2015-06-07 03:00:00</td><td>229370</td><td>202       </td><td>1330310                        </td><td>1330310</td></tr>\n",
       "\t<tr><td>2015-06-14 03:00:00</td><td> 98113</td><td>451       </td><td>1141052 n48.000                </td><td>     NA</td></tr>\n",
       "</tbody>\n",
       "</table>\n"
      ],
      "text/latex": [
       "A data.table: 10 × 5\n",
       "\\begin{tabular}{lllll}\n",
       " timestamp & itemid & property & value & value\\_clean\\\\\n",
       " <dttm> & <int> & <chr> & <chr> & <dbl>\\\\\n",
       "\\hline\n",
       "\t 2015-06-28 03:00:00 & 460429 & categoryid & 1338                            &    1338\\\\\n",
       "\t 2015-09-06 03:00:00 & 206783 & 888        & 1116713 960601 n277.200         &      NA\\\\\n",
       "\t 2015-08-09 03:00:00 & 395014 & 400        & n552.000 639502 n720.000 424566 &      NA\\\\\n",
       "\t 2015-05-10 03:00:00 &  59481 & 790        & n15360.000                      &   15360\\\\\n",
       "\t 2015-05-17 03:00:00 & 156781 & 917        & 828513                          &  828513\\\\\n",
       "\t 2015-07-05 03:00:00 & 285026 & available  & 0                               &       0\\\\\n",
       "\t 2015-06-14 03:00:00 &  89534 & 213        & 1121373                         & 1121373\\\\\n",
       "\t 2015-05-17 03:00:00 & 264312 & 6          & 319724                          &  319724\\\\\n",
       "\t 2015-06-07 03:00:00 & 229370 & 202        & 1330310                         & 1330310\\\\\n",
       "\t 2015-06-14 03:00:00 &  98113 & 451        & 1141052 n48.000                 &      NA\\\\\n",
       "\\end{tabular}\n"
      ],
      "text/markdown": [
       "\n",
       "A data.table: 10 × 5\n",
       "\n",
       "| timestamp &lt;dttm&gt; | itemid &lt;int&gt; | property &lt;chr&gt; | value &lt;chr&gt; | value_clean &lt;dbl&gt; |\n",
       "|---|---|---|---|---|\n",
       "| 2015-06-28 03:00:00 | 460429 | categoryid | 1338                            |    1338 |\n",
       "| 2015-09-06 03:00:00 | 206783 | 888        | 1116713 960601 n277.200         |      NA |\n",
       "| 2015-08-09 03:00:00 | 395014 | 400        | n552.000 639502 n720.000 424566 |      NA |\n",
       "| 2015-05-10 03:00:00 |  59481 | 790        | n15360.000                      |   15360 |\n",
       "| 2015-05-17 03:00:00 | 156781 | 917        | 828513                          |  828513 |\n",
       "| 2015-07-05 03:00:00 | 285026 | available  | 0                               |       0 |\n",
       "| 2015-06-14 03:00:00 |  89534 | 213        | 1121373                         | 1121373 |\n",
       "| 2015-05-17 03:00:00 | 264312 | 6          | 319724                          |  319724 |\n",
       "| 2015-06-07 03:00:00 | 229370 | 202        | 1330310                         | 1330310 |\n",
       "| 2015-06-14 03:00:00 |  98113 | 451        | 1141052 n48.000                 |      NA |\n",
       "\n"
      ],
      "text/plain": [
       "   timestamp           itemid property   value                          \n",
       "1  2015-06-28 03:00:00 460429 categoryid 1338                           \n",
       "2  2015-09-06 03:00:00 206783 888        1116713 960601 n277.200        \n",
       "3  2015-08-09 03:00:00 395014 400        n552.000 639502 n720.000 424566\n",
       "4  2015-05-10 03:00:00  59481 790        n15360.000                     \n",
       "5  2015-05-17 03:00:00 156781 917        828513                         \n",
       "6  2015-07-05 03:00:00 285026 available  0                              \n",
       "7  2015-06-14 03:00:00  89534 213        1121373                        \n",
       "8  2015-05-17 03:00:00 264312 6          319724                         \n",
       "9  2015-06-07 03:00:00 229370 202        1330310                        \n",
       "10 2015-06-14 03:00:00  98113 451        1141052 n48.000                \n",
       "   value_clean\n",
       "1     1338    \n",
       "2       NA    \n",
       "3       NA    \n",
       "4    15360    \n",
       "5   828513    \n",
       "6        0    \n",
       "7  1121373    \n",
       "8   319724    \n",
       "9  1330310    \n",
       "10      NA    "
      ]
     },
     "metadata": {},
     "output_type": "display_data"
    }
   ],
   "source": [
    "# Clean numeric values\n",
    "# Use string functions to remove the prefix and then convert them to numeric.\n",
    "# Some of the 'value' column sometimes starts with \"n\"\n",
    "\n",
    "# Check Class\n",
    "class(item_properties)\n",
    "\n",
    "# Set to data.table\n",
    "setDT(item_properties)\n",
    "\n",
    "# Apply the operation\n",
    "item_properties[, value_clean := as.numeric(gsub(\"^n\", \"\", value))]\n",
    "\n",
    "# Round to 3 decimanls for precision\n",
    "# item_properties[, value_clean := round(value_clean, 3)]\n",
    "\n",
    "\n",
    "# Check conversion\n",
    "summary(item_properties$value_clean)\n",
    "\n",
    "View(head(item_properties, 10))"
   ]
  },
  {
   "cell_type": "code",
   "execution_count": 25,
   "metadata": {},
   "outputs": [
    {
     "data": {
      "text/html": [
       "<table class=\"dataframe\">\n",
       "<caption>A data.table: 6 × 8</caption>\n",
       "<thead>\n",
       "\t<tr><th scope=col>timestamp</th><th scope=col>itemid</th><th scope=col>property</th><th scope=col>value</th><th scope=col>value_clean</th><th scope=col>visitorid</th><th scope=col>event</th><th scope=col>transactionid</th></tr>\n",
       "\t<tr><th scope=col>&lt;dttm&gt;</th><th scope=col>&lt;int&gt;</th><th scope=col>&lt;chr&gt;</th><th scope=col>&lt;chr&gt;</th><th scope=col>&lt;dbl&gt;</th><th scope=col>&lt;int&gt;</th><th scope=col>&lt;fct&gt;</th><th scope=col>&lt;int&gt;</th></tr>\n",
       "</thead>\n",
       "<tbody>\n",
       "\t<tr><td>2015-08-18 18:30:40</td><td>3</td><td>459</td><td>769062                              </td><td> 769062</td><td> 370720</td><td>view</td><td>NA</td></tr>\n",
       "\t<tr><td>2015-08-31 14:39:02</td><td>3</td><td>283</td><td>1305767 150169 1182824 327918 261419</td><td>     NA</td><td> 639016</td><td>view</td><td>NA</td></tr>\n",
       "\t<tr><td>2015-06-30 07:03:11</td><td>4</td><td>888</td><td>371058 71429                        </td><td>     NA</td><td>1042455</td><td>view</td><td>NA</td></tr>\n",
       "\t<tr><td>2015-08-31 18:06:00</td><td>4</td><td>888</td><td>371058 71429 508476                 </td><td>     NA</td><td> 905555</td><td>view</td><td>NA</td></tr>\n",
       "\t<tr><td>2015-09-15 23:22:44</td><td>4</td><td>591</td><td>1116693                             </td><td>1116693</td><td>1010132</td><td>view</td><td>NA</td></tr>\n",
       "\t<tr><td>2015-05-06 20:33:13</td><td>6</td><td>NA </td><td>NA                                  </td><td>     NA</td><td> 330981</td><td>view</td><td>NA</td></tr>\n",
       "</tbody>\n",
       "</table>\n"
      ],
      "text/latex": [
       "A data.table: 6 × 8\n",
       "\\begin{tabular}{llllllll}\n",
       " timestamp & itemid & property & value & value\\_clean & visitorid & event & transactionid\\\\\n",
       " <dttm> & <int> & <chr> & <chr> & <dbl> & <int> & <fct> & <int>\\\\\n",
       "\\hline\n",
       "\t 2015-08-18 18:30:40 & 3 & 459 & 769062                               &  769062 &  370720 & view & NA\\\\\n",
       "\t 2015-08-31 14:39:02 & 3 & 283 & 1305767 150169 1182824 327918 261419 &      NA &  639016 & view & NA\\\\\n",
       "\t 2015-06-30 07:03:11 & 4 & 888 & 371058 71429                         &      NA & 1042455 & view & NA\\\\\n",
       "\t 2015-08-31 18:06:00 & 4 & 888 & 371058 71429 508476                  &      NA &  905555 & view & NA\\\\\n",
       "\t 2015-09-15 23:22:44 & 4 & 591 & 1116693                              & 1116693 & 1010132 & view & NA\\\\\n",
       "\t 2015-05-06 20:33:13 & 6 & NA  & NA                                   &      NA &  330981 & view & NA\\\\\n",
       "\\end{tabular}\n"
      ],
      "text/markdown": [
       "\n",
       "A data.table: 6 × 8\n",
       "\n",
       "| timestamp &lt;dttm&gt; | itemid &lt;int&gt; | property &lt;chr&gt; | value &lt;chr&gt; | value_clean &lt;dbl&gt; | visitorid &lt;int&gt; | event &lt;fct&gt; | transactionid &lt;int&gt; |\n",
       "|---|---|---|---|---|---|---|---|\n",
       "| 2015-08-18 18:30:40 | 3 | 459 | 769062                               |  769062 |  370720 | view | NA |\n",
       "| 2015-08-31 14:39:02 | 3 | 283 | 1305767 150169 1182824 327918 261419 |      NA |  639016 | view | NA |\n",
       "| 2015-06-30 07:03:11 | 4 | 888 | 371058 71429                         |      NA | 1042455 | view | NA |\n",
       "| 2015-08-31 18:06:00 | 4 | 888 | 371058 71429 508476                  |      NA |  905555 | view | NA |\n",
       "| 2015-09-15 23:22:44 | 4 | 591 | 1116693                              | 1116693 | 1010132 | view | NA |\n",
       "| 2015-05-06 20:33:13 | 6 | NA  | NA                                   |      NA |  330981 | view | NA |\n",
       "\n"
      ],
      "text/plain": [
       "  timestamp           itemid property value                               \n",
       "1 2015-08-18 18:30:40 3      459      769062                              \n",
       "2 2015-08-31 14:39:02 3      283      1305767 150169 1182824 327918 261419\n",
       "3 2015-06-30 07:03:11 4      888      371058 71429                        \n",
       "4 2015-08-31 18:06:00 4      888      371058 71429 508476                 \n",
       "5 2015-09-15 23:22:44 4      591      1116693                             \n",
       "6 2015-05-06 20:33:13 6      NA       NA                                  \n",
       "  value_clean visitorid event transactionid\n",
       "1  769062      370720   view  NA           \n",
       "2      NA      639016   view  NA           \n",
       "3      NA     1042455   view  NA           \n",
       "4      NA      905555   view  NA           \n",
       "5 1116693     1010132   view  NA           \n",
       "6      NA      330981   view  NA           "
      ]
     },
     "metadata": {},
     "output_type": "display_data"
    }
   ],
   "source": [
    "# Merging datasets\n",
    "# Perform a Rolling Join\n",
    "# A rolling join allows you to match each event with the most recent (previous) item property snapshot.\n",
    "\n",
    "# Set event to data.table\n",
    "setDT(events)\n",
    "\n",
    "# Order the data by itemid and timestamp\n",
    "setorder(events, itemid, timestamp)\n",
    "setorder(item_properties, itemid, timestamp)\n",
    "\n",
    "# Set keys for a rolling join\n",
    "setkey(events, itemid, timestamp)\n",
    "setkey(item_properties, itemid, timestamp)\n",
    "\n",
    "# Rolling join: for each event, get the most recent snapshot from item properties.\n",
    "# This matches on 'itemid' and finds the snapshot with a timestamp less than or equal to the event timestamp.\n",
    "merged_data <- item_properties[events, on = .(itemid, timestamp), roll = TRUE]\n",
    "\n",
    "# Inspect the merged result\n",
    "head(merged_data)\n",
    "\n",
    "# Both events and item_props are keyed by itemid and timestamp. This ensures the join is performed efficiently.\n",
    "\n",
    "# Rolling Join (roll = TRUE): When you join item_props with events, \n",
    "# the roll = TRUE option tells data.table to find, for each event, the row in item_props with the closest timestamp that does not exceed the event's timestamp. This aligns each event with the proper snapshot of the item properties."
   ]
  },
  {
   "cell_type": "code",
   "execution_count": 26,
   "metadata": {},
   "outputs": [
    {
     "data": {
      "text/html": [
       "<table class=\"dataframe\">\n",
       "<caption>A data.table: 6 × 8</caption>\n",
       "<thead>\n",
       "\t<tr><th scope=col>timestamp</th><th scope=col>itemid</th><th scope=col>property</th><th scope=col>value</th><th scope=col>value_clean</th><th scope=col>visitorid</th><th scope=col>event</th><th scope=col>transactionid</th></tr>\n",
       "\t<tr><th scope=col>&lt;dttm&gt;</th><th scope=col>&lt;int&gt;</th><th scope=col>&lt;chr&gt;</th><th scope=col>&lt;chr&gt;</th><th scope=col>&lt;dbl&gt;</th><th scope=col>&lt;int&gt;</th><th scope=col>&lt;fct&gt;</th><th scope=col>&lt;int&gt;</th></tr>\n",
       "</thead>\n",
       "<tbody>\n",
       "\t<tr><td>2015-08-18 18:30:40</td><td>3</td><td>categoryid</td><td>1171</td><td>1171</td><td> 370720</td><td>view</td><td>NA</td></tr>\n",
       "\t<tr><td>2015-08-31 14:39:02</td><td>3</td><td>categoryid</td><td>1171</td><td>1171</td><td> 639016</td><td>view</td><td>NA</td></tr>\n",
       "\t<tr><td>2015-06-30 07:03:11</td><td>4</td><td>categoryid</td><td>1038</td><td>1038</td><td>1042455</td><td>view</td><td>NA</td></tr>\n",
       "\t<tr><td>2015-08-31 18:06:00</td><td>4</td><td>categoryid</td><td>1038</td><td>1038</td><td> 905555</td><td>view</td><td>NA</td></tr>\n",
       "\t<tr><td>2015-09-15 23:22:44</td><td>4</td><td>categoryid</td><td>1038</td><td>1038</td><td>1010132</td><td>view</td><td>NA</td></tr>\n",
       "\t<tr><td>2015-05-06 20:33:13</td><td>6</td><td>NA        </td><td>NA  </td><td>  NA</td><td> 330981</td><td>view</td><td>NA</td></tr>\n",
       "</tbody>\n",
       "</table>\n"
      ],
      "text/latex": [
       "A data.table: 6 × 8\n",
       "\\begin{tabular}{llllllll}\n",
       " timestamp & itemid & property & value & value\\_clean & visitorid & event & transactionid\\\\\n",
       " <dttm> & <int> & <chr> & <chr> & <dbl> & <int> & <fct> & <int>\\\\\n",
       "\\hline\n",
       "\t 2015-08-18 18:30:40 & 3 & categoryid & 1171 & 1171 &  370720 & view & NA\\\\\n",
       "\t 2015-08-31 14:39:02 & 3 & categoryid & 1171 & 1171 &  639016 & view & NA\\\\\n",
       "\t 2015-06-30 07:03:11 & 4 & categoryid & 1038 & 1038 & 1042455 & view & NA\\\\\n",
       "\t 2015-08-31 18:06:00 & 4 & categoryid & 1038 & 1038 &  905555 & view & NA\\\\\n",
       "\t 2015-09-15 23:22:44 & 4 & categoryid & 1038 & 1038 & 1010132 & view & NA\\\\\n",
       "\t 2015-05-06 20:33:13 & 6 & NA         & NA   &   NA &  330981 & view & NA\\\\\n",
       "\\end{tabular}\n"
      ],
      "text/markdown": [
       "\n",
       "A data.table: 6 × 8\n",
       "\n",
       "| timestamp &lt;dttm&gt; | itemid &lt;int&gt; | property &lt;chr&gt; | value &lt;chr&gt; | value_clean &lt;dbl&gt; | visitorid &lt;int&gt; | event &lt;fct&gt; | transactionid &lt;int&gt; |\n",
       "|---|---|---|---|---|---|---|---|\n",
       "| 2015-08-18 18:30:40 | 3 | categoryid | 1171 | 1171 |  370720 | view | NA |\n",
       "| 2015-08-31 14:39:02 | 3 | categoryid | 1171 | 1171 |  639016 | view | NA |\n",
       "| 2015-06-30 07:03:11 | 4 | categoryid | 1038 | 1038 | 1042455 | view | NA |\n",
       "| 2015-08-31 18:06:00 | 4 | categoryid | 1038 | 1038 |  905555 | view | NA |\n",
       "| 2015-09-15 23:22:44 | 4 | categoryid | 1038 | 1038 | 1010132 | view | NA |\n",
       "| 2015-05-06 20:33:13 | 6 | NA         | NA   |   NA |  330981 | view | NA |\n",
       "\n"
      ],
      "text/plain": [
       "  timestamp           itemid property   value value_clean visitorid event\n",
       "1 2015-08-18 18:30:40 3      categoryid 1171  1171         370720   view \n",
       "2 2015-08-31 14:39:02 3      categoryid 1171  1171         639016   view \n",
       "3 2015-06-30 07:03:11 4      categoryid 1038  1038        1042455   view \n",
       "4 2015-08-31 18:06:00 4      categoryid 1038  1038         905555   view \n",
       "5 2015-09-15 23:22:44 4      categoryid 1038  1038        1010132   view \n",
       "6 2015-05-06 20:33:13 6      NA         NA      NA         330981   view \n",
       "  transactionid\n",
       "1 NA           \n",
       "2 NA           \n",
       "3 NA           \n",
       "4 NA           \n",
       "5 NA           \n",
       "6 NA           "
      ]
     },
     "metadata": {},
     "output_type": "display_data"
    }
   ],
   "source": [
    "# Filter the item properties data to isolate the rows where the property is \"categoryid\". This gives you the actual category identifier for each item.\n",
    "\n",
    "category_property <- item_properties[property == \"categoryid\"]\n",
    "\n",
    "# Perform a rolling join Since item properties are time-dependent, align each event with the most recent \"categoryid\" snapshot preceding the event time\n",
    "\n",
    "# Order and set keys for rolling join\n",
    "setorder(category_property, itemid, timestamp)\n",
    "setorder(events, itemid, timestamp)\n",
    "setkey(category_property, itemid, timestamp)\n",
    "setkey(events, itemid, timestamp)\n",
    "\n",
    "\n",
    "# Rolling join: For each event, get the most recent \"categoryid\" snapshot\n",
    "events_with_category <- category_property[events, on = .(itemid, timestamp), roll = TRUE]\n",
    "\n",
    "head(events_with_category)"
   ]
  },
  {
   "cell_type": "code",
   "execution_count": 27,
   "metadata": {},
   "outputs": [
    {
     "data": {
      "text/html": [
       "<table class=\"dataframe\">\n",
       "<caption>A data.table: 20 × 10</caption>\n",
       "<thead>\n",
       "\t<tr><th scope=col>categoryid</th><th scope=col>timestamp</th><th scope=col>itemid</th><th scope=col>property</th><th scope=col>value</th><th scope=col>value_clean</th><th scope=col>visitorid</th><th scope=col>event</th><th scope=col>transactionid</th><th scope=col>parentid</th></tr>\n",
       "\t<tr><th scope=col>&lt;int&gt;</th><th scope=col>&lt;dttm&gt;</th><th scope=col>&lt;int&gt;</th><th scope=col>&lt;chr&gt;</th><th scope=col>&lt;chr&gt;</th><th scope=col>&lt;dbl&gt;</th><th scope=col>&lt;int&gt;</th><th scope=col>&lt;fct&gt;</th><th scope=col>&lt;int&gt;</th><th scope=col>&lt;int&gt;</th></tr>\n",
       "</thead>\n",
       "<tbody>\n",
       "\t<tr><td>NA</td><td>2015-05-06 20:33:13</td><td> 6</td><td>NA</td><td>NA</td><td>NA</td><td> 330981</td><td>view</td><td>NA</td><td>NA</td></tr>\n",
       "\t<tr><td>NA</td><td>2015-05-06 20:35:35</td><td> 6</td><td>NA</td><td>NA</td><td>NA</td><td> 330981</td><td>view</td><td>NA</td><td>NA</td></tr>\n",
       "\t<tr><td>NA</td><td>2015-05-13 22:53:14</td><td> 9</td><td>NA</td><td>NA</td><td>NA</td><td>1205411</td><td>view</td><td>NA</td><td>NA</td></tr>\n",
       "\t<tr><td>NA</td><td>2015-07-09 01:35:08</td><td> 9</td><td>NA</td><td>NA</td><td>NA</td><td> 949658</td><td>view</td><td>NA</td><td>NA</td></tr>\n",
       "\t<tr><td>NA</td><td>2015-05-03 16:45:07</td><td>16</td><td>NA</td><td>NA</td><td>NA</td><td>1275279</td><td>view</td><td>NA</td><td>NA</td></tr>\n",
       "\t<tr><td>NA</td><td>2015-05-12 02:12:50</td><td>16</td><td>NA</td><td>NA</td><td>NA</td><td>1103054</td><td>view</td><td>NA</td><td>NA</td></tr>\n",
       "\t<tr><td>NA</td><td>2015-05-12 02:12:53</td><td>16</td><td>NA</td><td>NA</td><td>NA</td><td>1103054</td><td>view</td><td>NA</td><td>NA</td></tr>\n",
       "\t<tr><td>NA</td><td>2015-06-10 07:27:33</td><td>16</td><td>NA</td><td>NA</td><td>NA</td><td> 375506</td><td>view</td><td>NA</td><td>NA</td></tr>\n",
       "\t<tr><td>NA</td><td>2015-06-10 22:45:47</td><td>16</td><td>NA</td><td>NA</td><td>NA</td><td> 534240</td><td>view</td><td>NA</td><td>NA</td></tr>\n",
       "\t<tr><td>NA</td><td>2015-06-11 00:30:03</td><td>16</td><td>NA</td><td>NA</td><td>NA</td><td> 843371</td><td>view</td><td>NA</td><td>NA</td></tr>\n",
       "\t<tr><td>NA</td><td>2015-06-14 21:55:32</td><td>16</td><td>NA</td><td>NA</td><td>NA</td><td> 271241</td><td>view</td><td>NA</td><td>NA</td></tr>\n",
       "\t<tr><td>NA</td><td>2015-06-23 13:10:05</td><td>16</td><td>NA</td><td>NA</td><td>NA</td><td> 572889</td><td>view</td><td>NA</td><td>NA</td></tr>\n",
       "\t<tr><td>NA</td><td>2015-06-24 17:59:13</td><td>16</td><td>NA</td><td>NA</td><td>NA</td><td> 101249</td><td>view</td><td>NA</td><td>NA</td></tr>\n",
       "\t<tr><td>NA</td><td>2015-06-24 21:20:49</td><td>16</td><td>NA</td><td>NA</td><td>NA</td><td> 550789</td><td>view</td><td>NA</td><td>NA</td></tr>\n",
       "\t<tr><td>NA</td><td>2015-05-08 22:01:18</td><td>17</td><td>NA</td><td>NA</td><td>NA</td><td> 855728</td><td>view</td><td>NA</td><td>NA</td></tr>\n",
       "\t<tr><td>NA</td><td>2015-05-03 21:46:12</td><td>19</td><td>NA</td><td>NA</td><td>NA</td><td> 690433</td><td>view</td><td>NA</td><td>NA</td></tr>\n",
       "\t<tr><td>NA</td><td>2015-05-14 17:48:48</td><td>22</td><td>NA</td><td>NA</td><td>NA</td><td> 349340</td><td>view</td><td>NA</td><td>NA</td></tr>\n",
       "\t<tr><td>NA</td><td>2015-05-08 20:54:13</td><td>25</td><td>NA</td><td>NA</td><td>NA</td><td> 436925</td><td>view</td><td>NA</td><td>NA</td></tr>\n",
       "\t<tr><td>NA</td><td>2015-05-16 23:40:37</td><td>26</td><td>NA</td><td>NA</td><td>NA</td><td> 833010</td><td>view</td><td>NA</td><td>NA</td></tr>\n",
       "\t<tr><td>NA</td><td>2015-05-17 01:09:47</td><td>26</td><td>NA</td><td>NA</td><td>NA</td><td> 408852</td><td>view</td><td>NA</td><td>NA</td></tr>\n",
       "</tbody>\n",
       "</table>\n"
      ],
      "text/latex": [
       "A data.table: 20 × 10\n",
       "\\begin{tabular}{llllllllll}\n",
       " categoryid & timestamp & itemid & property & value & value\\_clean & visitorid & event & transactionid & parentid\\\\\n",
       " <int> & <dttm> & <int> & <chr> & <chr> & <dbl> & <int> & <fct> & <int> & <int>\\\\\n",
       "\\hline\n",
       "\t NA & 2015-05-06 20:33:13 &  6 & NA & NA & NA &  330981 & view & NA & NA\\\\\n",
       "\t NA & 2015-05-06 20:35:35 &  6 & NA & NA & NA &  330981 & view & NA & NA\\\\\n",
       "\t NA & 2015-05-13 22:53:14 &  9 & NA & NA & NA & 1205411 & view & NA & NA\\\\\n",
       "\t NA & 2015-07-09 01:35:08 &  9 & NA & NA & NA &  949658 & view & NA & NA\\\\\n",
       "\t NA & 2015-05-03 16:45:07 & 16 & NA & NA & NA & 1275279 & view & NA & NA\\\\\n",
       "\t NA & 2015-05-12 02:12:50 & 16 & NA & NA & NA & 1103054 & view & NA & NA\\\\\n",
       "\t NA & 2015-05-12 02:12:53 & 16 & NA & NA & NA & 1103054 & view & NA & NA\\\\\n",
       "\t NA & 2015-06-10 07:27:33 & 16 & NA & NA & NA &  375506 & view & NA & NA\\\\\n",
       "\t NA & 2015-06-10 22:45:47 & 16 & NA & NA & NA &  534240 & view & NA & NA\\\\\n",
       "\t NA & 2015-06-11 00:30:03 & 16 & NA & NA & NA &  843371 & view & NA & NA\\\\\n",
       "\t NA & 2015-06-14 21:55:32 & 16 & NA & NA & NA &  271241 & view & NA & NA\\\\\n",
       "\t NA & 2015-06-23 13:10:05 & 16 & NA & NA & NA &  572889 & view & NA & NA\\\\\n",
       "\t NA & 2015-06-24 17:59:13 & 16 & NA & NA & NA &  101249 & view & NA & NA\\\\\n",
       "\t NA & 2015-06-24 21:20:49 & 16 & NA & NA & NA &  550789 & view & NA & NA\\\\\n",
       "\t NA & 2015-05-08 22:01:18 & 17 & NA & NA & NA &  855728 & view & NA & NA\\\\\n",
       "\t NA & 2015-05-03 21:46:12 & 19 & NA & NA & NA &  690433 & view & NA & NA\\\\\n",
       "\t NA & 2015-05-14 17:48:48 & 22 & NA & NA & NA &  349340 & view & NA & NA\\\\\n",
       "\t NA & 2015-05-08 20:54:13 & 25 & NA & NA & NA &  436925 & view & NA & NA\\\\\n",
       "\t NA & 2015-05-16 23:40:37 & 26 & NA & NA & NA &  833010 & view & NA & NA\\\\\n",
       "\t NA & 2015-05-17 01:09:47 & 26 & NA & NA & NA &  408852 & view & NA & NA\\\\\n",
       "\\end{tabular}\n"
      ],
      "text/markdown": [
       "\n",
       "A data.table: 20 × 10\n",
       "\n",
       "| categoryid &lt;int&gt; | timestamp &lt;dttm&gt; | itemid &lt;int&gt; | property &lt;chr&gt; | value &lt;chr&gt; | value_clean &lt;dbl&gt; | visitorid &lt;int&gt; | event &lt;fct&gt; | transactionid &lt;int&gt; | parentid &lt;int&gt; |\n",
       "|---|---|---|---|---|---|---|---|---|---|\n",
       "| NA | 2015-05-06 20:33:13 |  6 | NA | NA | NA |  330981 | view | NA | NA |\n",
       "| NA | 2015-05-06 20:35:35 |  6 | NA | NA | NA |  330981 | view | NA | NA |\n",
       "| NA | 2015-05-13 22:53:14 |  9 | NA | NA | NA | 1205411 | view | NA | NA |\n",
       "| NA | 2015-07-09 01:35:08 |  9 | NA | NA | NA |  949658 | view | NA | NA |\n",
       "| NA | 2015-05-03 16:45:07 | 16 | NA | NA | NA | 1275279 | view | NA | NA |\n",
       "| NA | 2015-05-12 02:12:50 | 16 | NA | NA | NA | 1103054 | view | NA | NA |\n",
       "| NA | 2015-05-12 02:12:53 | 16 | NA | NA | NA | 1103054 | view | NA | NA |\n",
       "| NA | 2015-06-10 07:27:33 | 16 | NA | NA | NA |  375506 | view | NA | NA |\n",
       "| NA | 2015-06-10 22:45:47 | 16 | NA | NA | NA |  534240 | view | NA | NA |\n",
       "| NA | 2015-06-11 00:30:03 | 16 | NA | NA | NA |  843371 | view | NA | NA |\n",
       "| NA | 2015-06-14 21:55:32 | 16 | NA | NA | NA |  271241 | view | NA | NA |\n",
       "| NA | 2015-06-23 13:10:05 | 16 | NA | NA | NA |  572889 | view | NA | NA |\n",
       "| NA | 2015-06-24 17:59:13 | 16 | NA | NA | NA |  101249 | view | NA | NA |\n",
       "| NA | 2015-06-24 21:20:49 | 16 | NA | NA | NA |  550789 | view | NA | NA |\n",
       "| NA | 2015-05-08 22:01:18 | 17 | NA | NA | NA |  855728 | view | NA | NA |\n",
       "| NA | 2015-05-03 21:46:12 | 19 | NA | NA | NA |  690433 | view | NA | NA |\n",
       "| NA | 2015-05-14 17:48:48 | 22 | NA | NA | NA |  349340 | view | NA | NA |\n",
       "| NA | 2015-05-08 20:54:13 | 25 | NA | NA | NA |  436925 | view | NA | NA |\n",
       "| NA | 2015-05-16 23:40:37 | 26 | NA | NA | NA |  833010 | view | NA | NA |\n",
       "| NA | 2015-05-17 01:09:47 | 26 | NA | NA | NA |  408852 | view | NA | NA |\n",
       "\n"
      ],
      "text/plain": [
       "   categoryid timestamp           itemid property value value_clean visitorid\n",
       "1  NA         2015-05-06 20:33:13  6     NA       NA    NA           330981  \n",
       "2  NA         2015-05-06 20:35:35  6     NA       NA    NA           330981  \n",
       "3  NA         2015-05-13 22:53:14  9     NA       NA    NA          1205411  \n",
       "4  NA         2015-07-09 01:35:08  9     NA       NA    NA           949658  \n",
       "5  NA         2015-05-03 16:45:07 16     NA       NA    NA          1275279  \n",
       "6  NA         2015-05-12 02:12:50 16     NA       NA    NA          1103054  \n",
       "7  NA         2015-05-12 02:12:53 16     NA       NA    NA          1103054  \n",
       "8  NA         2015-06-10 07:27:33 16     NA       NA    NA           375506  \n",
       "9  NA         2015-06-10 22:45:47 16     NA       NA    NA           534240  \n",
       "10 NA         2015-06-11 00:30:03 16     NA       NA    NA           843371  \n",
       "11 NA         2015-06-14 21:55:32 16     NA       NA    NA           271241  \n",
       "12 NA         2015-06-23 13:10:05 16     NA       NA    NA           572889  \n",
       "13 NA         2015-06-24 17:59:13 16     NA       NA    NA           101249  \n",
       "14 NA         2015-06-24 21:20:49 16     NA       NA    NA           550789  \n",
       "15 NA         2015-05-08 22:01:18 17     NA       NA    NA           855728  \n",
       "16 NA         2015-05-03 21:46:12 19     NA       NA    NA           690433  \n",
       "17 NA         2015-05-14 17:48:48 22     NA       NA    NA           349340  \n",
       "18 NA         2015-05-08 20:54:13 25     NA       NA    NA           436925  \n",
       "19 NA         2015-05-16 23:40:37 26     NA       NA    NA           833010  \n",
       "20 NA         2015-05-17 01:09:47 26     NA       NA    NA           408852  \n",
       "   event transactionid parentid\n",
       "1  view  NA            NA      \n",
       "2  view  NA            NA      \n",
       "3  view  NA            NA      \n",
       "4  view  NA            NA      \n",
       "5  view  NA            NA      \n",
       "6  view  NA            NA      \n",
       "7  view  NA            NA      \n",
       "8  view  NA            NA      \n",
       "9  view  NA            NA      \n",
       "10 view  NA            NA      \n",
       "11 view  NA            NA      \n",
       "12 view  NA            NA      \n",
       "13 view  NA            NA      \n",
       "14 view  NA            NA      \n",
       "15 view  NA            NA      \n",
       "16 view  NA            NA      \n",
       "17 view  NA            NA      \n",
       "18 view  NA            NA      \n",
       "19 view  NA            NA      \n",
       "20 view  NA            NA      "
      ]
     },
     "metadata": {},
     "output_type": "display_data"
    }
   ],
   "source": [
    "# Rename and Prepare the Category Identifier\n",
    "# For clarity, rename the column containing the category identifier. \n",
    "events_with_category[, categoryid := value_clean]\n",
    "\n",
    "\n",
    "# Merge with category tree\n",
    "# setKey\n",
    "setkey(category_tree, categoryid)\n",
    "setkey(events_with_category, categoryid)\n",
    "\n",
    "\n",
    "# Merge the category tree with the events data\n",
    "final_data <- merge(events_with_category, category_tree, by = \"categoryid\", all.x = TRUE)\n",
    "\n",
    "head(final_data, 20)\n",
    "# In the merge() function in R, the all.x = TRUE argument specifies that the merge should be left join (keeping all rows from the left dataset and only matching rows from the right dataset)."
   ]
  }
 ],
 "metadata": {
  "kernelspec": {
   "display_name": "R",
   "language": "R",
   "name": "ir"
  },
  "language_info": {
   "codemirror_mode": "r",
   "file_extension": ".r",
   "mimetype": "text/x-r-source",
   "name": "R",
   "pygments_lexer": "r",
   "version": "4.4.2"
  }
 },
 "nbformat": 4,
 "nbformat_minor": 4
}
